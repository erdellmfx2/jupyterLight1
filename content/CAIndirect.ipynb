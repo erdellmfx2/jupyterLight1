{
 "cells": [
  {
   "cell_type": "code",
   "execution_count": 1,
   "id": "170b12b7",
   "metadata": {},
   "outputs": [],
   "source": [
    "# Libraries to help with reading and manipulating data\n",
    "import numpy as np\n",
    "import pandas as pd\n",
    "\n",
    "# Libraries to help with data visualization\n",
    "import matplotlib.pyplot as plt\n",
    "import seaborn as sns\n",
    "\n",
    "# Command to tell Python to actually display the graphs\n",
    "%matplotlib inline"
   ]
  },
  {
   "cell_type": "code",
   "execution_count": 9,
   "id": "2484b34a",
   "metadata": {},
   "outputs": [],
   "source": [
    "df = pd.read_excel(\"CAIndirect.xlsx\")"
   ]
  },
  {
   "cell_type": "code",
   "execution_count": 3,
   "id": "c5cf65f9",
   "metadata": {},
   "outputs": [
    {
     "data": {
      "text/html": [
       "<div>\n",
       "<style scoped>\n",
       "    .dataframe tbody tr th:only-of-type {\n",
       "        vertical-align: middle;\n",
       "    }\n",
       "\n",
       "    .dataframe tbody tr th {\n",
       "        vertical-align: top;\n",
       "    }\n",
       "\n",
       "    .dataframe thead th {\n",
       "        text-align: right;\n",
       "    }\n",
       "</style>\n",
       "<table border=\"1\" class=\"dataframe\">\n",
       "  <thead>\n",
       "    <tr style=\"text-align: right;\">\n",
       "      <th></th>\n",
       "      <th>Progress</th>\n",
       "    </tr>\n",
       "  </thead>\n",
       "  <tbody>\n",
       "    <tr>\n",
       "      <th>count</th>\n",
       "      <td>80.0</td>\n",
       "    </tr>\n",
       "    <tr>\n",
       "      <th>mean</th>\n",
       "      <td>100.0</td>\n",
       "    </tr>\n",
       "    <tr>\n",
       "      <th>std</th>\n",
       "      <td>0.0</td>\n",
       "    </tr>\n",
       "    <tr>\n",
       "      <th>min</th>\n",
       "      <td>100.0</td>\n",
       "    </tr>\n",
       "    <tr>\n",
       "      <th>25%</th>\n",
       "      <td>100.0</td>\n",
       "    </tr>\n",
       "    <tr>\n",
       "      <th>50%</th>\n",
       "      <td>100.0</td>\n",
       "    </tr>\n",
       "    <tr>\n",
       "      <th>75%</th>\n",
       "      <td>100.0</td>\n",
       "    </tr>\n",
       "    <tr>\n",
       "      <th>max</th>\n",
       "      <td>100.0</td>\n",
       "    </tr>\n",
       "  </tbody>\n",
       "</table>\n",
       "</div>"
      ],
      "text/plain": [
       "       Progress\n",
       "count      80.0\n",
       "mean      100.0\n",
       "std         0.0\n",
       "min       100.0\n",
       "25%       100.0\n",
       "50%       100.0\n",
       "75%       100.0\n",
       "max       100.0"
      ]
     },
     "execution_count": 3,
     "metadata": {},
     "output_type": "execute_result"
    }
   ],
   "source": [
    "df.describe()"
   ]
  },
  {
   "cell_type": "code",
   "execution_count": 10,
   "id": "1e1495b1",
   "metadata": {},
   "outputs": [
    {
     "name": "stdout",
     "output_type": "stream",
     "text": [
      "<class 'pandas.core.frame.DataFrame'>\n",
      "RangeIndex: 80 entries, 0 to 79\n",
      "Data columns (total 13 columns):\n",
      " #   Column    Non-Null Count  Dtype \n",
      "---  ------    --------------  ----- \n",
      " 0   Term      80 non-null     object\n",
      " 1   Progress  80 non-null     int64 \n",
      " 2   Finished  80 non-null     bool  \n",
      " 3   Q17       80 non-null     object\n",
      " 4   Q18       80 non-null     object\n",
      " 5   Q14       8 non-null      object\n",
      " 6   Q19       72 non-null     object\n",
      " 7   Q2        80 non-null     object\n",
      " 8   Q3        80 non-null     object\n",
      " 9   Q4        80 non-null     object\n",
      " 10  Q5        80 non-null     object\n",
      " 11  Q6        80 non-null     object\n",
      " 12  Q12       22 non-null     object\n",
      "dtypes: bool(1), int64(1), object(11)\n",
      "memory usage: 7.7+ KB\n"
     ]
    }
   ],
   "source": [
    "df.info()"
   ]
  },
  {
   "cell_type": "code",
   "execution_count": 35,
   "id": "1fc80b49",
   "metadata": {},
   "outputs": [
    {
     "name": "stdout",
     "output_type": "stream",
     "text": [
      "Fall 2022      67\n",
      "Spring 2023    13\n",
      "Name: Q17, dtype: int64\n"
     ]
    },
    {
     "data": {
      "text/plain": [
       "Fall 2022      0.8375\n",
       "Spring 2023    0.1625\n",
       "Name: Q17, dtype: float64"
      ]
     },
     "execution_count": 35,
     "metadata": {},
     "output_type": "execute_result"
    },
    {
     "data": {
      "image/png": "[encoded data removed]",
      "text/plain": [
       "<Figure size 432x288 with 1 Axes>"
      ]
     },
     "metadata": {
      "needs_background": "light"
     },
     "output_type": "display_data"
    }
   ],
   "source": [
    "sns.countplot(data = df, x = \"Q17\")\n",
    "plt.xlabel('Q17 For which semester are you taking College Algebra (MAC 1105)?');\n",
    "print(df['Q17'].value_counts())\n",
    "df['Q17'].value_counts(normalize = True)"
   ]
  },
  {
   "cell_type": "code",
   "execution_count": 36,
   "id": "184378a6",
   "metadata": {},
   "outputs": [
    {
     "name": "stdout",
     "output_type": "stream",
     "text": [
      "No     72\n",
      "Yes     8\n",
      "Name: Q18, dtype: int64\n"
     ]
    },
    {
     "data": {
      "text/plain": [
       "No     0.9\n",
       "Yes    0.1\n",
       "Name: Q18, dtype: float64"
      ]
     },
     "execution_count": 36,
     "metadata": {},
     "output_type": "execute_result"
    },
    {
     "data": {
      "image/png": "[encoded data removed]",
      "text/plain": [
       "<Figure size 432x288 with 1 Axes>"
      ]
     },
     "metadata": {
      "needs_background": "light"
     },
     "output_type": "display_data"
    }
   ],
   "source": [
    "sns.countplot(data = df, x = \"Q18\")\n",
    "plt.xlabel('Q18 Did you complete Intermediate Algebra (MAT 1033) here at FAMU?');\n",
    "print(df['Q18'].value_counts())\n",
    "df['Q18'].value_counts(normalize = True)"
   ]
  },
  {
   "cell_type": "code",
   "execution_count": 38,
   "id": "ff0eb121",
   "metadata": {},
   "outputs": [
    {
     "name": "stdout",
     "output_type": "stream",
     "text": [
      "Agree             5\n",
      "Strongly Agree    3\n",
      "Name: Q14, dtype: int64\n"
     ]
    },
    {
     "data": {
      "text/plain": [
       "Agree             0.625\n",
       "Strongly Agree    0.375\n",
       "Name: Q14, dtype: float64"
      ]
     },
     "execution_count": 38,
     "metadata": {},
     "output_type": "execute_result"
    },
    {
     "data": {
      "image/png": "[encoded data removed]",
      "text/plain": [
       "<Figure size 432x288 with 1 Axes>"
      ]
     },
     "metadata": {
      "needs_background": "light"
     },
     "output_type": "display_data"
    }
   ],
   "source": [
    "sns.countplot(data = df, x = \"Q14\")\n",
    "plt.xlabel('Q14 I believe the Intermediate Algebra (MAT 1033) course prepared me for College Algebra (MAC 1105).');\n",
    "print(df['Q14'].value_counts())\n",
    "df['Q14'].value_counts(normalize = True)"
   ]
  },
  {
   "cell_type": "code",
   "execution_count": 39,
   "id": "8d0cdb2b",
   "metadata": {},
   "outputs": [
    {
     "name": "stdout",
     "output_type": "stream",
     "text": [
      "Strongly Agree    36\n",
      "Agree             23\n",
      "No opinion         9\n",
      "Disagree           4\n",
      "Name: Q19, dtype: int64\n"
     ]
    },
    {
     "data": {
      "text/plain": [
       "Strongly Agree    0.500000\n",
       "Agree             0.319444\n",
       "No opinion        0.125000\n",
       "Disagree          0.055556\n",
       "Name: Q19, dtype: float64"
      ]
     },
     "execution_count": 39,
     "metadata": {},
     "output_type": "execute_result"
    },
    {
     "data": {
      "image/png": "[encoded data removed]",
      "text/plain": [
       "<Figure size 432x288 with 1 Axes>"
      ]
     },
     "metadata": {
      "needs_background": "light"
     },
     "output_type": "display_data"
    }
   ],
   "source": [
    "sns.countplot(data = df, x = \"Q19\")\n",
    "plt.xlabel('Q19 I believe my prior courses taken in high school (and elsewhere) prepared me for College Algebra (MAC 1105).');\n",
    "print(df['Q19'].value_counts())\n",
    "df['Q19'].value_counts(normalize = True)"
   ]
  },
  {
   "cell_type": "code",
   "execution_count": 40,
   "id": "a27e3979",
   "metadata": {},
   "outputs": [
    {
     "name": "stdout",
     "output_type": "stream",
     "text": [
      "Strongly agree       26\n",
      "Agree                23\n",
      "Strongly disagree    13\n",
      "No opinion           10\n",
      "Disagree              8\n",
      "Name: Q2, dtype: int64\n"
     ]
    },
    {
     "data": {
      "text/plain": [
       "Strongly agree       0.3250\n",
       "Agree                0.2875\n",
       "Strongly disagree    0.1625\n",
       "No opinion           0.1250\n",
       "Disagree             0.1000\n",
       "Name: Q2, dtype: float64"
      ]
     },
     "execution_count": 40,
     "metadata": {},
     "output_type": "execute_result"
    },
    {
     "data": {
      "image/png": "[encoded data removed]",
      "text/plain": [
       "<Figure size 432x288 with 1 Axes>"
      ]
     },
     "metadata": {
      "needs_background": "light"
     },
     "output_type": "display_data"
    }
   ],
   "source": [
    "sns.countplot(data = df, x = \"Q2\")\n",
    "plt.xlabel('Q2 The physical classroom environment was comfortable and conducive to learning.');\n",
    "print(df['Q2'].value_counts())\n",
    "df['Q2'].value_counts(normalize = True)"
   ]
  },
  {
   "cell_type": "code",
   "execution_count": 41,
   "id": "3f37ba3e",
   "metadata": {},
   "outputs": [
    {
     "name": "stdout",
     "output_type": "stream",
     "text": [
      "Strongly agree       19\n",
      "Strongly disagree    18\n",
      "No opinion           16\n",
      "Agree                15\n",
      "Disagree             12\n",
      "Name: Q3, dtype: int64\n"
     ]
    },
    {
     "data": {
      "text/plain": [
       "Strongly agree       0.2375\n",
       "Strongly disagree    0.2250\n",
       "No opinion           0.2000\n",
       "Agree                0.1875\n",
       "Disagree             0.1500\n",
       "Name: Q3, dtype: float64"
      ]
     },
     "execution_count": 41,
     "metadata": {},
     "output_type": "execute_result"
    },
    {
     "data": {
      "image/png": "[encoded data removed]",
      "text/plain": [
       "<Figure size 432x288 with 1 Axes>"
      ]
     },
     "metadata": {
      "needs_background": "light"
     },
     "output_type": "display_data"
    }
   ],
   "source": [
    "sns.countplot(data = df, x = \"Q3\")\n",
    "plt.xlabel('Q3 In this class, I felt comfortable asking questions.');\n",
    "print(df['Q3'].value_counts())\n",
    "df['Q3'].value_counts(normalize = True)"
   ]
  },
  {
   "cell_type": "code",
   "execution_count": 42,
   "id": "86d849b6",
   "metadata": {},
   "outputs": [
    {
     "name": "stdout",
     "output_type": "stream",
     "text": [
      "Agree             41\n",
      "Strongly agree    25\n",
      "No opinion         8\n",
      "Disagree           6\n",
      "Name: Q4, dtype: int64\n"
     ]
    },
    {
     "data": {
      "text/plain": [
       "Agree             0.5125\n",
       "Strongly agree    0.3125\n",
       "No opinion        0.1000\n",
       "Disagree          0.0750\n",
       "Name: Q4, dtype: float64"
      ]
     },
     "execution_count": 42,
     "metadata": {},
     "output_type": "execute_result"
    },
    {
     "data": {
      "image/png": "[encoded data removed]",
      "text/plain": [
       "<Figure size 432x288 with 1 Axes>"
      ]
     },
     "metadata": {
      "needs_background": "light"
     },
     "output_type": "display_data"
    }
   ],
   "source": [
    "sns.countplot(data = df, x = \"Q4\")\n",
    "plt.xlabel('Q4 In this course, classroom activities, homework and quizzes were aligned with the material I was required to know for exams.');\n",
    "print(df['Q4'].value_counts())\n",
    "df['Q4'].value_counts(normalize = True)"
   ]
  },
  {
   "cell_type": "code",
   "execution_count": 43,
   "id": "3ee59a0d",
   "metadata": {},
   "outputs": [
    {
     "name": "stdout",
     "output_type": "stream",
     "text": [
      "Strongly agree       22\n",
      "Agree                22\n",
      "No opinion           18\n",
      "Strongly disagree    12\n",
      "Disagree              6\n",
      "Name: Q5, dtype: int64\n"
     ]
    },
    {
     "data": {
      "text/plain": [
       "Strongly agree       0.275\n",
       "Agree                0.275\n",
       "No opinion           0.225\n",
       "Strongly disagree    0.150\n",
       "Disagree             0.075\n",
       "Name: Q5, dtype: float64"
      ]
     },
     "execution_count": 43,
     "metadata": {},
     "output_type": "execute_result"
    },
    {
     "data": {
      "image/png": "[encoded data removed]",
      "text/plain": [
       "<Figure size 432x288 with 1 Axes>"
      ]
     },
     "metadata": {
      "needs_background": "light"
     },
     "output_type": "display_data"
    }
   ],
   "source": [
    "sns.countplot(data = df, x = \"Q5\")\n",
    "plt.xlabel('Q5 My instructor was available to assist me when I needed additional help.');\n",
    "print(df['Q5'].value_counts())\n",
    "df['Q5'].value_counts(normalize = True)"
   ]
  },
  {
   "cell_type": "code",
   "execution_count": 44,
   "id": "53952262",
   "metadata": {},
   "outputs": [
    {
     "name": "stdout",
     "output_type": "stream",
     "text": [
      "No opinion           26\n",
      "Agree                23\n",
      "Strongly agree       22\n",
      "Disagree              7\n",
      "Strongly disagree     2\n",
      "Name: Q6, dtype: int64\n"
     ]
    },
    {
     "data": {
      "text/plain": [
       "No opinion           0.3250\n",
       "Agree                0.2875\n",
       "Strongly agree       0.2750\n",
       "Disagree             0.0875\n",
       "Strongly disagree    0.0250\n",
       "Name: Q6, dtype: float64"
      ]
     },
     "execution_count": 44,
     "metadata": {},
     "output_type": "execute_result"
    },
    {
     "data": {
      "image/png": "[encoded data removed]",
      "text/plain": [
       "<Figure size 432x288 with 1 Axes>"
      ]
     },
     "metadata": {
      "needs_background": "light"
     },
     "output_type": "display_data"
    }
   ],
   "source": [
    "sns.countplot(data = df, x = \"Q6\")\n",
    "plt.xlabel('Q6 Overall, the mathematics department is welcoming and supportive.');\n",
    "print(df['Q6'].value_counts())\n",
    "df['Q6'].value_counts(normalize = True)"
   ]
  },
  {
   "cell_type": "code",
   "execution_count": null,
   "id": "215e06aa",
   "metadata": {},
   "outputs": [],
   "source": []
  }
 ],
 "metadata": {
  "kernelspec": {
   "display_name": "Python 3 (ipykernel)",
   "language": "python",
   "name": "python3"
  },
  "language_info": {
   "codemirror_mode": {
    "name": "ipython",
    "version": 3
   },
   "file_extension": ".py",
   "mimetype": "text/x-python",
   "name": "python",
   "nbconvert_exporter": "python",
   "pygments_lexer": "ipython3",
   "version": "3.9.12"
  }
 },
 "nbformat": 4,
 "nbformat_minor": 5
}
